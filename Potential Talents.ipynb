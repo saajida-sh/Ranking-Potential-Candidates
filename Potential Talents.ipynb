{
 "cells": [
  {
   "cell_type": "markdown",
   "id": "3741df82",
   "metadata": {},
   "source": [
    "## Project 3 - Ranking Potential Candidates"
   ]
  },
  {
   "cell_type": "code",
   "execution_count": 1,
   "id": "8a2310d0",
   "metadata": {},
   "outputs": [],
   "source": [
    "# Import necessary libraries\n",
    "import pandas as pd\n",
    "import numpy as np\n",
    "import torch\n",
    "import matplotlib.pyplot as plt\n",
    "from sentence_transformers import SentenceTransformer, util\n",
    "from transformers import BertTokenizer, BertModel\n",
    "from scipy.spatial.distance import cosine"
   ]
  },
  {
   "cell_type": "code",
   "execution_count": 2,
   "id": "4096865b",
   "metadata": {},
   "outputs": [
    {
     "data": {
      "text/html": [
       "<div>\n",
       "<style scoped>\n",
       "    .dataframe tbody tr th:only-of-type {\n",
       "        vertical-align: middle;\n",
       "    }\n",
       "\n",
       "    .dataframe tbody tr th {\n",
       "        vertical-align: top;\n",
       "    }\n",
       "\n",
       "    .dataframe thead th {\n",
       "        text-align: right;\n",
       "    }\n",
       "</style>\n",
       "<table border=\"1\" class=\"dataframe\">\n",
       "  <thead>\n",
       "    <tr style=\"text-align: right;\">\n",
       "      <th></th>\n",
       "      <th>id</th>\n",
       "      <th>job_title</th>\n",
       "      <th>location</th>\n",
       "      <th>connection</th>\n",
       "      <th>fit</th>\n",
       "    </tr>\n",
       "  </thead>\n",
       "  <tbody>\n",
       "    <tr>\n",
       "      <th>0</th>\n",
       "      <td>1</td>\n",
       "      <td>2019 C.T. Bauer College of Business Graduate (...</td>\n",
       "      <td>Houston, Texas</td>\n",
       "      <td>85</td>\n",
       "      <td>NaN</td>\n",
       "    </tr>\n",
       "    <tr>\n",
       "      <th>1</th>\n",
       "      <td>2</td>\n",
       "      <td>Native English Teacher at EPIK (English Progra...</td>\n",
       "      <td>Kanada</td>\n",
       "      <td>500+</td>\n",
       "      <td>NaN</td>\n",
       "    </tr>\n",
       "    <tr>\n",
       "      <th>2</th>\n",
       "      <td>3</td>\n",
       "      <td>Aspiring Human Resources Professional</td>\n",
       "      <td>Raleigh-Durham, North Carolina Area</td>\n",
       "      <td>44</td>\n",
       "      <td>NaN</td>\n",
       "    </tr>\n",
       "    <tr>\n",
       "      <th>3</th>\n",
       "      <td>4</td>\n",
       "      <td>People Development Coordinator at Ryan</td>\n",
       "      <td>Denton, Texas</td>\n",
       "      <td>500+</td>\n",
       "      <td>NaN</td>\n",
       "    </tr>\n",
       "    <tr>\n",
       "      <th>4</th>\n",
       "      <td>5</td>\n",
       "      <td>Advisory Board Member at Celal Bayar University</td>\n",
       "      <td>İzmir, Türkiye</td>\n",
       "      <td>500+</td>\n",
       "      <td>NaN</td>\n",
       "    </tr>\n",
       "  </tbody>\n",
       "</table>\n",
       "</div>"
      ],
      "text/plain": [
       "   id                                          job_title  \\\n",
       "0   1  2019 C.T. Bauer College of Business Graduate (...   \n",
       "1   2  Native English Teacher at EPIK (English Progra...   \n",
       "2   3              Aspiring Human Resources Professional   \n",
       "3   4             People Development Coordinator at Ryan   \n",
       "4   5    Advisory Board Member at Celal Bayar University   \n",
       "\n",
       "                              location connection  fit  \n",
       "0                       Houston, Texas         85  NaN  \n",
       "1                               Kanada      500+   NaN  \n",
       "2  Raleigh-Durham, North Carolina Area         44  NaN  \n",
       "3                        Denton, Texas      500+   NaN  \n",
       "4                       İzmir, Türkiye      500+   NaN  "
      ]
     },
     "execution_count": 2,
     "metadata": {},
     "output_type": "execute_result"
    }
   ],
   "source": [
    "# Read the dataset\n",
    "data = pd.read_csv(\"potential-talents.csv\")\n",
    "data.head()"
   ]
  },
  {
   "cell_type": "markdown",
   "id": "5e47885a",
   "metadata": {},
   "source": [
    "### Data Preparation"
   ]
  },
  {
   "cell_type": "markdown",
   "id": "732a6a9f",
   "metadata": {},
   "source": [
    "- Check for null values and duplicate columns"
   ]
  },
  {
   "cell_type": "code",
   "execution_count": 3,
   "id": "9d93b598",
   "metadata": {},
   "outputs": [
    {
     "data": {
      "text/plain": [
       "id              0\n",
       "job_title       0\n",
       "location        0\n",
       "connection      0\n",
       "fit           104\n",
       "dtype: int64"
      ]
     },
     "execution_count": 3,
     "metadata": {},
     "output_type": "execute_result"
    }
   ],
   "source": [
    "# Check for null values\n",
    "data.isnull().sum()"
   ]
  },
  {
   "cell_type": "code",
   "execution_count": 4,
   "id": "53fb60b4",
   "metadata": {},
   "outputs": [
    {
     "data": {
      "text/plain": [
       "51"
      ]
     },
     "execution_count": 4,
     "metadata": {},
     "output_type": "execute_result"
    }
   ],
   "source": [
    "# Check for duplicate entries\n",
    "data.duplicated(subset=['job_title', 'connection']).sum()"
   ]
  },
  {
   "cell_type": "code",
   "execution_count": 5,
   "id": "124a5cd0",
   "metadata": {},
   "outputs": [],
   "source": [
    "# Remove duplicated entries\n",
    "data = data.drop_duplicates(subset=['job_title', 'connection'])"
   ]
  },
  {
   "cell_type": "markdown",
   "id": "eb835069",
   "metadata": {},
   "source": [
    "- As there is no particular indication as to whether location is an important feature, it has been removed from further analysis. "
   ]
  },
  {
   "cell_type": "code",
   "execution_count": 6,
   "id": "1ef2e3e9",
   "metadata": {},
   "outputs": [],
   "source": [
    "# Drop columns\n",
    "data.drop(columns = ['fit','location'], axis = 1, inplace = True)"
   ]
  },
  {
   "cell_type": "markdown",
   "id": "ed15882d",
   "metadata": {},
   "source": [
    "- Before performing analysis on the job titles, a few data preprocessing is done here such as removal of punctuation marks, replacing the word HR with Human resources"
   ]
  },
  {
   "cell_type": "code",
   "execution_count": 7,
   "id": "d458583e",
   "metadata": {},
   "outputs": [],
   "source": [
    "import re\n",
    "\n",
    "# Function to preprocess job titles\n",
    "def preprocess_job_titles(job_title):\n",
    "    # Replace \"HR\" with \"Human Resource\"\n",
    "    job_title = job_title.replace(\"HR\", \"Human Resource\")\n",
    "    \n",
    "    # Remove punctuations\n",
    "    job_title = re.sub(r'[^\\w\\s]', '', job_title)\n",
    "    \n",
    "    return job_title\n",
    "\n",
    "# Apply preprocessing to the job_title column\n",
    "data['job_title'] = data['job_title'].apply(preprocess_job_titles)"
   ]
  },
  {
   "cell_type": "markdown",
   "id": "090aa105",
   "metadata": {},
   "source": [
    "- As the 'connection' feature is a string, it is converted to integer. Moreover, entries which have 500+ connections are kept as 501 connections"
   ]
  },
  {
   "cell_type": "code",
   "execution_count": 8,
   "id": "4df7de69",
   "metadata": {},
   "outputs": [],
   "source": [
    "def convert_connections_adjusted(value):\n",
    "    value = value.strip()  # Remove leading and trailing spaces\n",
    "    if value == '500+':\n",
    "        return 501\n",
    "    else:\n",
    "        return int(value)\n",
    "\n",
    "# Apply the function\n",
    "data['connection'] = data['connection'].apply(convert_connections_adjusted)"
   ]
  },
  {
   "cell_type": "code",
   "execution_count": 9,
   "id": "9dc9546b",
   "metadata": {},
   "outputs": [
    {
     "data": {
      "text/html": [
       "<div>\n",
       "<style scoped>\n",
       "    .dataframe tbody tr th:only-of-type {\n",
       "        vertical-align: middle;\n",
       "    }\n",
       "\n",
       "    .dataframe tbody tr th {\n",
       "        vertical-align: top;\n",
       "    }\n",
       "\n",
       "    .dataframe thead th {\n",
       "        text-align: right;\n",
       "    }\n",
       "</style>\n",
       "<table border=\"1\" class=\"dataframe\">\n",
       "  <thead>\n",
       "    <tr style=\"text-align: right;\">\n",
       "      <th></th>\n",
       "      <th>id</th>\n",
       "      <th>job_title</th>\n",
       "      <th>connection</th>\n",
       "    </tr>\n",
       "  </thead>\n",
       "  <tbody>\n",
       "    <tr>\n",
       "      <th>0</th>\n",
       "      <td>1</td>\n",
       "      <td>2019 CT Bauer College of Business Graduate Mag...</td>\n",
       "      <td>85</td>\n",
       "    </tr>\n",
       "    <tr>\n",
       "      <th>1</th>\n",
       "      <td>2</td>\n",
       "      <td>Native English Teacher at EPIK English Program...</td>\n",
       "      <td>501</td>\n",
       "    </tr>\n",
       "    <tr>\n",
       "      <th>2</th>\n",
       "      <td>3</td>\n",
       "      <td>Aspiring Human Resources Professional</td>\n",
       "      <td>44</td>\n",
       "    </tr>\n",
       "    <tr>\n",
       "      <th>3</th>\n",
       "      <td>4</td>\n",
       "      <td>People Development Coordinator at Ryan</td>\n",
       "      <td>501</td>\n",
       "    </tr>\n",
       "    <tr>\n",
       "      <th>4</th>\n",
       "      <td>5</td>\n",
       "      <td>Advisory Board Member at Celal Bayar University</td>\n",
       "      <td>501</td>\n",
       "    </tr>\n",
       "  </tbody>\n",
       "</table>\n",
       "</div>"
      ],
      "text/plain": [
       "   id                                          job_title  connection\n",
       "0   1  2019 CT Bauer College of Business Graduate Mag...          85\n",
       "1   2  Native English Teacher at EPIK English Program...         501\n",
       "2   3              Aspiring Human Resources Professional          44\n",
       "3   4             People Development Coordinator at Ryan         501\n",
       "4   5    Advisory Board Member at Celal Bayar University         501"
      ]
     },
     "execution_count": 9,
     "metadata": {},
     "output_type": "execute_result"
    }
   ],
   "source": [
    "data.head()"
   ]
  },
  {
   "cell_type": "markdown",
   "id": "432e8b8d",
   "metadata": {},
   "source": [
    "### Candidate Fit through Cosine Similiarity"
   ]
  },
  {
   "cell_type": "markdown",
   "id": "1c12bc08",
   "metadata": {},
   "source": [
    "The cosine similiarity of word embeddings of job titles against the keywords, 'Aspiring human resources' and 'seeking human resources' is found here through Sentence Transformer and BERT."
   ]
  },
  {
   "cell_type": "markdown",
   "id": "a206783c",
   "metadata": {},
   "source": [
    "#### 1. Sentence Transformer"
   ]
  },
  {
   "cell_type": "code",
   "execution_count": 10,
   "id": "432f3ce1",
   "metadata": {},
   "outputs": [],
   "source": [
    "# Initialize the model\n",
    "model = SentenceTransformer('all-MiniLM-L6-v2')\n",
    "\n",
    "# Extract job titles\n",
    "job_titles = data['job_title'].tolist()\n",
    "\n",
    "keyword1 = \"Aspiring human resources\"\n",
    "keyword2 = \"Seeking human resources\"\n",
    "\n",
    "# Generate embeddings for job titles and keyword\n",
    "job_title_embeddings = model.encode(job_titles, convert_to_tensor=True)\n",
    "keyword_embedding_1 = model.encode([keyword1], convert_to_tensor=True)\n",
    "keyword_embedding_2 = model.encode([keyword2], convert_to_tensor=True)\n",
    "\n",
    "# Calculate cosine similarity\n",
    "cosine_similarity_key1 = util.pytorch_cos_sim(job_title_embeddings, keyword_embedding_1).numpy()\n",
    "cosine_similarity_key2 = util.pytorch_cos_sim(job_title_embeddings, keyword_embedding_2).numpy()"
   ]
  },
  {
   "cell_type": "code",
   "execution_count": 11,
   "id": "25fd9f54",
   "metadata": {},
   "outputs": [],
   "source": [
    "# Flatten the cosine similarity scores to a 1D array and add as new column\n",
    "data['fit_sentence_transformer_key1'] = cosine_similarity_key1.flatten()\n",
    "data['fit_sentence_transformer_key2'] = cosine_similarity_key2.flatten()"
   ]
  },
  {
   "cell_type": "markdown",
   "id": "22d18ae3",
   "metadata": {},
   "source": [
    "#### 2. BERT"
   ]
  },
  {
   "cell_type": "code",
   "execution_count": 12,
   "id": "11bccf95",
   "metadata": {},
   "outputs": [],
   "source": [
    "# Load pre-trained model tokenizer and model\n",
    "tokenizer = BertTokenizer.from_pretrained('bert-base-uncased')\n",
    "model = BertModel.from_pretrained('bert-base-uncased')\n",
    "\n",
    "# Function to generate embeddings\n",
    "def get_bert_embedding(text):\n",
    "    # Tokenize input\n",
    "    inputs = tokenizer(text, return_tensors=\"pt\", padding=True, truncation=True, max_length=512)\n",
    "    # Get embeddings\n",
    "    with torch.no_grad():\n",
    "        outputs = model(**inputs)\n",
    "    # Pool the outputs into a single mean vector\n",
    "    embeddings = outputs.last_hidden_state.mean(dim=1)\n",
    "    return embeddings"
   ]
  },
  {
   "cell_type": "code",
   "execution_count": 13,
   "id": "e66b2095",
   "metadata": {},
   "outputs": [],
   "source": [
    "keyword_embedding_1 = get_bert_embedding(keyword1)\n",
    "keyword_embedding_2 = get_bert_embedding(keyword2)\n",
    "\n",
    "job_titles = data['job_title']\n",
    "job_title_embeddings = torch.stack([get_bert_embedding(title) for title in job_titles])"
   ]
  },
  {
   "cell_type": "code",
   "execution_count": 14,
   "id": "a207f018",
   "metadata": {},
   "outputs": [],
   "source": [
    "# Compute cosine similarity\n",
    "cosine_similarity_bert_1 = [1 - cosine(keyword_embedding_1.numpy().flatten(), embedding.numpy().flatten()) for embedding in job_title_embeddings]\n",
    "cosine_similarity_bert_2 = [1 - cosine(keyword_embedding_2.numpy().flatten(), embedding.numpy().flatten()) for embedding in job_title_embeddings]\n",
    "\n",
    "# Flatten the cosine similarity scores to a 1D array and add as new column\n",
    "data['fit_bert_key1'] = cosine_similarity_bert_1\n",
    "data['fit_bert_key2'] = cosine_similarity_bert_2"
   ]
  },
  {
   "cell_type": "code",
   "execution_count": 15,
   "id": "d59a6f0e",
   "metadata": {},
   "outputs": [],
   "source": [
    "# Calculate the Average cosine similiarity\n",
    "data[\"avg_fit\"] = data[[\"fit_sentence_transformer_key1\", \"fit_sentence_transformer_key2\", \"fit_bert_key1\", \"fit_bert_key2\"]].mean(axis=1)"
   ]
  },
  {
   "cell_type": "markdown",
   "id": "e7c167ef",
   "metadata": {},
   "source": [
    "The initial rank is obtained from the average cosine similiarity of the keywords obtained through BERT and Sentence Transformer"
   ]
  },
  {
   "cell_type": "code",
   "execution_count": 16,
   "id": "d741dd69",
   "metadata": {},
   "outputs": [],
   "source": [
    "data['initial_rank'] = data['avg_fit'].rank(method='dense', ascending=False).astype(int)"
   ]
  },
  {
   "cell_type": "code",
   "execution_count": 17,
   "id": "11a7ccb2",
   "metadata": {},
   "outputs": [
    {
     "data": {
      "text/html": [
       "<div>\n",
       "<style scoped>\n",
       "    .dataframe tbody tr th:only-of-type {\n",
       "        vertical-align: middle;\n",
       "    }\n",
       "\n",
       "    .dataframe tbody tr th {\n",
       "        vertical-align: top;\n",
       "    }\n",
       "\n",
       "    .dataframe thead th {\n",
       "        text-align: right;\n",
       "    }\n",
       "</style>\n",
       "<table border=\"1\" class=\"dataframe\">\n",
       "  <thead>\n",
       "    <tr style=\"text-align: right;\">\n",
       "      <th></th>\n",
       "      <th>id</th>\n",
       "      <th>job_title</th>\n",
       "      <th>connection</th>\n",
       "      <th>fit_sentence_transformer_key1</th>\n",
       "      <th>fit_sentence_transformer_key2</th>\n",
       "      <th>fit_bert_key1</th>\n",
       "      <th>fit_bert_key2</th>\n",
       "      <th>avg_fit</th>\n",
       "      <th>initial_rank</th>\n",
       "    </tr>\n",
       "  </thead>\n",
       "  <tbody>\n",
       "    <tr>\n",
       "      <th>0</th>\n",
       "      <td>1</td>\n",
       "      <td>2019 CT Bauer College of Business Graduate Mag...</td>\n",
       "      <td>85</td>\n",
       "      <td>0.550054</td>\n",
       "      <td>0.425106</td>\n",
       "      <td>0.647348</td>\n",
       "      <td>0.562101</td>\n",
       "      <td>0.546152</td>\n",
       "      <td>33</td>\n",
       "    </tr>\n",
       "    <tr>\n",
       "      <th>1</th>\n",
       "      <td>2</td>\n",
       "      <td>Native English Teacher at EPIK English Program...</td>\n",
       "      <td>501</td>\n",
       "      <td>0.211303</td>\n",
       "      <td>0.191841</td>\n",
       "      <td>0.556558</td>\n",
       "      <td>0.542762</td>\n",
       "      <td>0.375616</td>\n",
       "      <td>47</td>\n",
       "    </tr>\n",
       "    <tr>\n",
       "      <th>2</th>\n",
       "      <td>3</td>\n",
       "      <td>Aspiring Human Resources Professional</td>\n",
       "      <td>44</td>\n",
       "      <td>0.949807</td>\n",
       "      <td>0.772700</td>\n",
       "      <td>0.902632</td>\n",
       "      <td>0.794786</td>\n",
       "      <td>0.854981</td>\n",
       "      <td>3</td>\n",
       "    </tr>\n",
       "    <tr>\n",
       "      <th>3</th>\n",
       "      <td>4</td>\n",
       "      <td>People Development Coordinator at Ryan</td>\n",
       "      <td>501</td>\n",
       "      <td>0.380222</td>\n",
       "      <td>0.377238</td>\n",
       "      <td>0.752288</td>\n",
       "      <td>0.738064</td>\n",
       "      <td>0.561953</td>\n",
       "      <td>32</td>\n",
       "    </tr>\n",
       "    <tr>\n",
       "      <th>4</th>\n",
       "      <td>5</td>\n",
       "      <td>Advisory Board Member at Celal Bayar University</td>\n",
       "      <td>501</td>\n",
       "      <td>0.230512</td>\n",
       "      <td>0.231743</td>\n",
       "      <td>0.430944</td>\n",
       "      <td>0.457767</td>\n",
       "      <td>0.337742</td>\n",
       "      <td>51</td>\n",
       "    </tr>\n",
       "  </tbody>\n",
       "</table>\n",
       "</div>"
      ],
      "text/plain": [
       "   id                                          job_title  connection  \\\n",
       "0   1  2019 CT Bauer College of Business Graduate Mag...          85   \n",
       "1   2  Native English Teacher at EPIK English Program...         501   \n",
       "2   3              Aspiring Human Resources Professional          44   \n",
       "3   4             People Development Coordinator at Ryan         501   \n",
       "4   5    Advisory Board Member at Celal Bayar University         501   \n",
       "\n",
       "   fit_sentence_transformer_key1  fit_sentence_transformer_key2  \\\n",
       "0                       0.550054                       0.425106   \n",
       "1                       0.211303                       0.191841   \n",
       "2                       0.949807                       0.772700   \n",
       "3                       0.380222                       0.377238   \n",
       "4                       0.230512                       0.231743   \n",
       "\n",
       "   fit_bert_key1  fit_bert_key2   avg_fit  initial_rank  \n",
       "0       0.647348       0.562101  0.546152            33  \n",
       "1       0.556558       0.542762  0.375616            47  \n",
       "2       0.902632       0.794786  0.854981             3  \n",
       "3       0.752288       0.738064  0.561953            32  \n",
       "4       0.430944       0.457767  0.337742            51  "
      ]
     },
     "execution_count": 17,
     "metadata": {},
     "output_type": "execute_result"
    }
   ],
   "source": [
    "data.head()"
   ]
  },
  {
   "cell_type": "markdown",
   "id": "2986bce4",
   "metadata": {},
   "source": [
    "To simulate starring candidates and re-ranking, 15 candidates are starred as 'Fit'."
   ]
  },
  {
   "cell_type": "code",
   "execution_count": 18,
   "id": "02e154f8",
   "metadata": {},
   "outputs": [],
   "source": [
    "data['starred'] = 0\n",
    "\n",
    "indices_to_star = [2, 6, 9, 11, 27, 65, 68, 72, 73, 78, 81, 88, 96, 99, 100]\n",
    "data.loc[indices_to_star, 'starred'] = 1"
   ]
  },
  {
   "cell_type": "code",
   "execution_count": 19,
   "id": "66c3d3e3",
   "metadata": {},
   "outputs": [
    {
     "data": {
      "text/html": [
       "<div>\n",
       "<style scoped>\n",
       "    .dataframe tbody tr th:only-of-type {\n",
       "        vertical-align: middle;\n",
       "    }\n",
       "\n",
       "    .dataframe tbody tr th {\n",
       "        vertical-align: top;\n",
       "    }\n",
       "\n",
       "    .dataframe thead th {\n",
       "        text-align: right;\n",
       "    }\n",
       "</style>\n",
       "<table border=\"1\" class=\"dataframe\">\n",
       "  <thead>\n",
       "    <tr style=\"text-align: right;\">\n",
       "      <th></th>\n",
       "      <th>id</th>\n",
       "      <th>job_title</th>\n",
       "      <th>connection</th>\n",
       "      <th>fit_sentence_transformer_key1</th>\n",
       "      <th>fit_sentence_transformer_key2</th>\n",
       "      <th>fit_bert_key1</th>\n",
       "      <th>fit_bert_key2</th>\n",
       "      <th>avg_fit</th>\n",
       "      <th>initial_rank</th>\n",
       "      <th>starred</th>\n",
       "    </tr>\n",
       "  </thead>\n",
       "  <tbody>\n",
       "    <tr>\n",
       "      <th>0</th>\n",
       "      <td>1</td>\n",
       "      <td>2019 CT Bauer College of Business Graduate Mag...</td>\n",
       "      <td>85</td>\n",
       "      <td>0.550054</td>\n",
       "      <td>0.425106</td>\n",
       "      <td>0.647348</td>\n",
       "      <td>0.562101</td>\n",
       "      <td>0.546152</td>\n",
       "      <td>33</td>\n",
       "      <td>0</td>\n",
       "    </tr>\n",
       "    <tr>\n",
       "      <th>1</th>\n",
       "      <td>2</td>\n",
       "      <td>Native English Teacher at EPIK English Program...</td>\n",
       "      <td>501</td>\n",
       "      <td>0.211303</td>\n",
       "      <td>0.191841</td>\n",
       "      <td>0.556558</td>\n",
       "      <td>0.542762</td>\n",
       "      <td>0.375616</td>\n",
       "      <td>47</td>\n",
       "      <td>0</td>\n",
       "    </tr>\n",
       "    <tr>\n",
       "      <th>2</th>\n",
       "      <td>3</td>\n",
       "      <td>Aspiring Human Resources Professional</td>\n",
       "      <td>44</td>\n",
       "      <td>0.949807</td>\n",
       "      <td>0.772700</td>\n",
       "      <td>0.902632</td>\n",
       "      <td>0.794786</td>\n",
       "      <td>0.854981</td>\n",
       "      <td>3</td>\n",
       "      <td>1</td>\n",
       "    </tr>\n",
       "    <tr>\n",
       "      <th>3</th>\n",
       "      <td>4</td>\n",
       "      <td>People Development Coordinator at Ryan</td>\n",
       "      <td>501</td>\n",
       "      <td>0.380222</td>\n",
       "      <td>0.377238</td>\n",
       "      <td>0.752288</td>\n",
       "      <td>0.738064</td>\n",
       "      <td>0.561953</td>\n",
       "      <td>32</td>\n",
       "      <td>0</td>\n",
       "    </tr>\n",
       "    <tr>\n",
       "      <th>4</th>\n",
       "      <td>5</td>\n",
       "      <td>Advisory Board Member at Celal Bayar University</td>\n",
       "      <td>501</td>\n",
       "      <td>0.230512</td>\n",
       "      <td>0.231743</td>\n",
       "      <td>0.430944</td>\n",
       "      <td>0.457767</td>\n",
       "      <td>0.337742</td>\n",
       "      <td>51</td>\n",
       "      <td>0</td>\n",
       "    </tr>\n",
       "  </tbody>\n",
       "</table>\n",
       "</div>"
      ],
      "text/plain": [
       "   id                                          job_title  connection  \\\n",
       "0   1  2019 CT Bauer College of Business Graduate Mag...          85   \n",
       "1   2  Native English Teacher at EPIK English Program...         501   \n",
       "2   3              Aspiring Human Resources Professional          44   \n",
       "3   4             People Development Coordinator at Ryan         501   \n",
       "4   5    Advisory Board Member at Celal Bayar University         501   \n",
       "\n",
       "   fit_sentence_transformer_key1  fit_sentence_transformer_key2  \\\n",
       "0                       0.550054                       0.425106   \n",
       "1                       0.211303                       0.191841   \n",
       "2                       0.949807                       0.772700   \n",
       "3                       0.380222                       0.377238   \n",
       "4                       0.230512                       0.231743   \n",
       "\n",
       "   fit_bert_key1  fit_bert_key2   avg_fit  initial_rank  starred  \n",
       "0       0.647348       0.562101  0.546152            33        0  \n",
       "1       0.556558       0.542762  0.375616            47        0  \n",
       "2       0.902632       0.794786  0.854981             3        1  \n",
       "3       0.752288       0.738064  0.561953            32        0  \n",
       "4       0.430944       0.457767  0.337742            51        0  "
      ]
     },
     "execution_count": 19,
     "metadata": {},
     "output_type": "execute_result"
    }
   ],
   "source": [
    "data.head()"
   ]
  },
  {
   "cell_type": "markdown",
   "id": "2b80012b",
   "metadata": {},
   "source": [
    "### Re-Ranking using LightGBM"
   ]
  },
  {
   "cell_type": "markdown",
   "id": "6792aca2",
   "metadata": {},
   "source": [
    "For re-ranking, LightGBM Ranker is used here with the cosine similiarity features and connection."
   ]
  },
  {
   "cell_type": "code",
   "execution_count": 20,
   "id": "9e26d662",
   "metadata": {},
   "outputs": [],
   "source": [
    "features = ['connection', 'fit_sentence_transformer_key1', 'fit_sentence_transformer_key2', 'fit_bert_key1', 'fit_bert_key2','initial_rank']\n",
    "X = data[features]\n",
    "y = data['starred']"
   ]
  },
  {
   "cell_type": "code",
   "execution_count": 57,
   "id": "1a2975ba",
   "metadata": {},
   "outputs": [],
   "source": [
    "from sklearn.model_selection import train_test_split\n",
    "\n",
    "# Splitting data into training and testing sets\n",
    "X_train, X_test, y_train, y_test = train_test_split(X, y, test_size=0.2, random_state=18)"
   ]
  },
  {
   "cell_type": "code",
   "execution_count": 58,
   "id": "d744cafc",
   "metadata": {},
   "outputs": [],
   "source": [
    "import lightgbm as lgb\n",
    "\n",
    "# Group information indicating all instances belong to the same group\n",
    "train_group = [X_train.shape[0]]\n",
    "test_group = [X_test.shape[0]]\n",
    "\n",
    "# Convert data to LightGBM dataset format\n",
    "train_data = lgb.Dataset(X_train, label=y_train, group=train_group)\n",
    "test_data = lgb.Dataset(X_test, label=y_test, group=test_group, reference=train_data)\n",
    "\n",
    "# Parameters for RankNet (using lambdarank in LightGBM)\n",
    "params = {\n",
    "    'objective': 'lambdarank',\n",
    "    'metric': 'ndcg',  # Normalized Discounted Cumulative Gain\n",
    "    'learning_rate': 0.05,\n",
    "    'num_leaves': 31,\n",
    "    'verbose': -1\n",
    "}\n",
    "\n",
    "# Train the model\n",
    "gbm = lgb.train(params,\n",
    "                train_data,\n",
    "                num_boost_round=100,\n",
    "                valid_sets=[test_data])\n"
   ]
  },
  {
   "cell_type": "code",
   "execution_count": 59,
   "id": "ca079c5f",
   "metadata": {},
   "outputs": [
    {
     "name": "stdout",
     "output_type": "stream",
     "text": [
      "NDCG Score: 0.8519590445170675\n"
     ]
    }
   ],
   "source": [
    "from sklearn.metrics import ndcg_score\n",
    "\n",
    "# Perform prediction on test data\n",
    "y_pred = gbm.predict(X_test)\n",
    "\n",
    "# The predictions (y_pred) and true scores (y_test) should be reshaped if they are 1D\n",
    "y_test_reshaped = y_test.values.reshape(1, -1)\n",
    "y_pred_reshaped = y_pred.reshape(1, -1)\n",
    "\n",
    "# Calculate NDCG\n",
    "ndcg = ndcg_score(y_test_reshaped, y_pred_reshaped)\n",
    "\n",
    "print(f\"NDCG Score: {ndcg}\")\n"
   ]
  },
  {
   "cell_type": "markdown",
   "id": "f8b95eb9",
   "metadata": {},
   "source": [
    "#### New Ranking\n",
    "\n",
    "The new ranking predicted with the LightGBM model is shown below for each candidate"
   ]
  },
  {
   "cell_type": "code",
   "execution_count": 60,
   "id": "06520a6d",
   "metadata": {},
   "outputs": [],
   "source": [
    "y_pred_data = gbm.predict(X)\n",
    "\n",
    "ranking_df = pd.DataFrame({\n",
    "    'CandidateID': data['id'],  # An identifier for each candidate\n",
    "    'Job Title' : data['job_title'],\n",
    "    'Score': y_pred_data\n",
    "})\n",
    "\n",
    "# Sort the dataframe by 'Score' in descending order to obtain rankings\n",
    "ranking_df = ranking_df.sort_values(by='Score', ascending=False).reset_index(drop=True)\n",
    "\n",
    "# Optionally, add a 'Rank' column to explicitly show the ranking\n",
    "ranking_df['Rank'] = ranking_df.index + 1"
   ]
  },
  {
   "cell_type": "code",
   "execution_count": 62,
   "id": "5aec4975",
   "metadata": {},
   "outputs": [
    {
     "data": {
      "text/html": [
       "<div>\n",
       "<style scoped>\n",
       "    .dataframe tbody tr th:only-of-type {\n",
       "        vertical-align: middle;\n",
       "    }\n",
       "\n",
       "    .dataframe tbody tr th {\n",
       "        vertical-align: top;\n",
       "    }\n",
       "\n",
       "    .dataframe thead th {\n",
       "        text-align: right;\n",
       "    }\n",
       "</style>\n",
       "<table border=\"1\" class=\"dataframe\">\n",
       "  <thead>\n",
       "    <tr style=\"text-align: right;\">\n",
       "      <th></th>\n",
       "      <th>CandidateID</th>\n",
       "      <th>Job Title</th>\n",
       "      <th>Score</th>\n",
       "      <th>Rank</th>\n",
       "    </tr>\n",
       "  </thead>\n",
       "  <tbody>\n",
       "    <tr>\n",
       "      <th>0</th>\n",
       "      <td>28</td>\n",
       "      <td>Seeking Human Resources Opportunities</td>\n",
       "      <td>1.026183</td>\n",
       "      <td>1</td>\n",
       "    </tr>\n",
       "    <tr>\n",
       "      <th>1</th>\n",
       "      <td>97</td>\n",
       "      <td>Aspiring Human Resources Professional</td>\n",
       "      <td>0.998986</td>\n",
       "      <td>2</td>\n",
       "    </tr>\n",
       "    <tr>\n",
       "      <th>2</th>\n",
       "      <td>10</td>\n",
       "      <td>Seeking Human Resources Human ResourceIS and G...</td>\n",
       "      <td>0.989268</td>\n",
       "      <td>3</td>\n",
       "    </tr>\n",
       "    <tr>\n",
       "      <th>3</th>\n",
       "      <td>74</td>\n",
       "      <td>Human Resources Professional</td>\n",
       "      <td>0.951133</td>\n",
       "      <td>4</td>\n",
       "    </tr>\n",
       "    <tr>\n",
       "      <th>4</th>\n",
       "      <td>3</td>\n",
       "      <td>Aspiring Human Resources Professional</td>\n",
       "      <td>0.943098</td>\n",
       "      <td>5</td>\n",
       "    </tr>\n",
       "  </tbody>\n",
       "</table>\n",
       "</div>"
      ],
      "text/plain": [
       "   CandidateID                                          Job Title     Score  \\\n",
       "0           28              Seeking Human Resources Opportunities  1.026183   \n",
       "1           97              Aspiring Human Resources Professional  0.998986   \n",
       "2           10  Seeking Human Resources Human ResourceIS and G...  0.989268   \n",
       "3           74                       Human Resources Professional  0.951133   \n",
       "4            3              Aspiring Human Resources Professional  0.943098   \n",
       "\n",
       "   Rank  \n",
       "0     1  \n",
       "1     2  \n",
       "2     3  \n",
       "3     4  \n",
       "4     5  "
      ]
     },
     "execution_count": 62,
     "metadata": {},
     "output_type": "execute_result"
    }
   ],
   "source": [
    "ranking_df.head()"
   ]
  }
 ],
 "metadata": {
  "kernelspec": {
   "display_name": "Python 3 (ipykernel)",
   "language": "python",
   "name": "python3"
  },
  "language_info": {
   "codemirror_mode": {
    "name": "ipython",
    "version": 3
   },
   "file_extension": ".py",
   "mimetype": "text/x-python",
   "name": "python",
   "nbconvert_exporter": "python",
   "pygments_lexer": "ipython3",
   "version": "3.11.0"
  }
 },
 "nbformat": 4,
 "nbformat_minor": 5
}
